{
 "cells": [
  {
   "cell_type": "markdown",
   "metadata": {},
   "source": [
    "# **Hospitality Domain Analysis**"
   ]
  },
  {
   "cell_type": "code",
   "execution_count": 1,
   "metadata": {},
   "outputs": [],
   "source": [
    "import pandas as pd \n",
    "import numpy as np\n",
    "import seaborn as sns \n",
    "import matplotlib.pyplot as plt\n",
    "\n",
    "%matplotlib inline "
   ]
  },
  {
   "cell_type": "markdown",
   "metadata": {},
   "source": [
    "### Load all datasets"
   ]
  },
  {
   "cell_type": "code",
   "execution_count": null,
   "metadata": {},
   "outputs": [],
   "source": [
    "# Date dataset\n",
    "\n",
    "df_dim_date = pd.read_csv('data./dim_date.csv', parse_dates=['date'], index_col='date')\n",
    "df_dim_date.head()"
   ]
  },
  {
   "cell_type": "code",
   "execution_count": null,
   "metadata": {},
   "outputs": [],
   "source": [
    "# Main dataset containing bookings\n",
    "\n",
    "df_fact_bookings = pd.read_csv('data./fact_bookings.csv', parse_dates=['booking_date', 'check_in_date', 'checkout_date'])\n",
    "df_fact_bookings.head()"
   ]
  },
  {
   "cell_type": "code",
   "execution_count": null,
   "metadata": {},
   "outputs": [],
   "source": [
    "# Dataset containing aggregation of bookings\n",
    "\n",
    "df_fab = pd.read_csv('data./fact_aggregated_bookings.csv', parse_dates=['check_in_date'])\n",
    "df_fab.head()"
   ]
  },
  {
   "cell_type": "code",
   "execution_count": null,
   "metadata": {},
   "outputs": [],
   "source": [
    "# Room id and description\n",
    "\n",
    "df_rooms = pd.read_csv('data./dim_rooms.csv')\n",
    "df_rooms"
   ]
  },
  {
   "cell_type": "code",
   "execution_count": null,
   "metadata": {},
   "outputs": [],
   "source": [
    "# Hotel dataset containing id, city etc.\n",
    "\n",
    "df_hotel = pd.read_csv('data./dim_hotels.csv')\n",
    "df_hotel.head()"
   ]
  },
  {
   "cell_type": "markdown",
   "metadata": {},
   "source": [
    "### Simple EDA on Main Dataset"
   ]
  },
  {
   "cell_type": "code",
   "execution_count": null,
   "metadata": {},
   "outputs": [],
   "source": [
    "df_fact_bookings.info()"
   ]
  },
  {
   "cell_type": "code",
   "execution_count": null,
   "metadata": {},
   "outputs": [],
   "source": [
    "df_fact_bookings.isnull().sum()"
   ]
  },
  {
   "cell_type": "code",
   "execution_count": null,
   "metadata": {},
   "outputs": [],
   "source": [
    "mode_ratings = float(df_fact_bookings['ratings_given'].mode())\n",
    "df_fact_bookings['ratings_given'] = df_fact_bookings['ratings_given'].replace(np.nan, mode_ratings)\n"
   ]
  },
  {
   "cell_type": "code",
   "execution_count": null,
   "metadata": {},
   "outputs": [],
   "source": [
    "df_fact_bookings.isna().sum()"
   ]
  },
  {
   "cell_type": "code",
   "execution_count": null,
   "metadata": {},
   "outputs": [],
   "source": [
    "df_fact_bookings.duplicated().sum()"
   ]
  },
  {
   "cell_type": "markdown",
   "metadata": {},
   "source": [
    "### **Metrics Calculation and Data Analysis**"
   ]
  },
  {
   "cell_type": "code",
   "execution_count": null,
   "metadata": {},
   "outputs": [],
   "source": [
    "total_revenue = df_fact_bookings['revenue_realized'].sum()\n",
    "total_revenue"
   ]
  },
  {
   "cell_type": "code",
   "execution_count": null,
   "metadata": {},
   "outputs": [],
   "source": [
    "total_bookings = df_fact_bookings['booking_id'].count()\n",
    "total_bookings"
   ]
  },
  {
   "cell_type": "code",
   "execution_count": null,
   "metadata": {},
   "outputs": [],
   "source": [
    "total_capacity = df_fab['capacity'].sum()\n",
    "total_capacity"
   ]
  },
  {
   "cell_type": "code",
   "execution_count": null,
   "metadata": {},
   "outputs": [],
   "source": [
    "total_successful_bookings = df_fab['successful_bookings'].sum()\n",
    "total_successful_bookings"
   ]
  },
  {
   "cell_type": "code",
   "execution_count": null,
   "metadata": {},
   "outputs": [],
   "source": [
    "occupancy_pcnt = round((total_successful_bookings/total_capacity) * 100, 2)\n",
    "occupancy_pcnt"
   ]
  },
  {
   "cell_type": "code",
   "execution_count": null,
   "metadata": {},
   "outputs": [],
   "source": [
    "avg_rating = round(df_fact_bookings['ratings_given'].mean(), 2)\n",
    "avg_rating"
   ]
  },
  {
   "cell_type": "code",
   "execution_count": null,
   "metadata": {},
   "outputs": [],
   "source": [
    "num_of_days = df_dim_date.index.shape[0]\n",
    "num_of_days"
   ]
  },
  {
   "cell_type": "code",
   "execution_count": null,
   "metadata": {},
   "outputs": [],
   "source": [
    "total_cancelled_bookings = df_fact_bookings.query(\"booking_status == 'Cancelled'\").shape[0]\n",
    "total_cancelled_bookings"
   ]
  },
  {
   "cell_type": "code",
   "execution_count": null,
   "metadata": {},
   "outputs": [],
   "source": [
    "cancellation_pcnt = round((total_cancelled_bookings/total_bookings) * 100, 2)\n",
    "cancellation_pcnt"
   ]
  },
  {
   "cell_type": "code",
   "execution_count": null,
   "metadata": {},
   "outputs": [],
   "source": [
    "total_checked_out = df_fact_bookings.query(\"booking_status == 'Checked Out'\").shape[0]\n",
    "total_checked_out"
   ]
  },
  {
   "cell_type": "code",
   "execution_count": null,
   "metadata": {},
   "outputs": [],
   "source": [
    "check_out_pcnt = round((total_checked_out/total_bookings) * 100, 2)\n",
    "check_out_pcnt"
   ]
  },
  {
   "cell_type": "code",
   "execution_count": null,
   "metadata": {},
   "outputs": [],
   "source": [
    "total_no_show_bookings = df_fact_bookings.query(\"booking_status == 'No Show'\").shape[0]\n",
    "total_no_show_bookings"
   ]
  },
  {
   "cell_type": "code",
   "execution_count": null,
   "metadata": {},
   "outputs": [],
   "source": [
    "no_show_pcnt = round((total_no_show_bookings/total_bookings) * 100, 2)\n",
    "no_show_pcnt"
   ]
  },
  {
   "cell_type": "code",
   "execution_count": null,
   "metadata": {},
   "outputs": [],
   "source": [
    "booking_pcnt_by_platform = round(df_fact_bookings['booking_platform'].value_counts(normalize=True) * 100, 2).to_frame().reset_index()\n",
    "booking_pcnt_by_platform"
   ]
  },
  {
   "cell_type": "code",
   "execution_count": 26,
   "metadata": {},
   "outputs": [],
   "source": [
    "# Create function to get column pairs as a dictionary\n",
    "# This will be used for matching corresponding values of one column to another\n",
    "\n",
    "def get_pair(col1, col2):\n",
    "    col_dict = {}\n",
    "    for value1, value2 in zip(col1, col2):\n",
    "        col_dict.update({value1:value2})\n",
    "    return col_dict"
   ]
  },
  {
   "cell_type": "code",
   "execution_count": 27,
   "metadata": {},
   "outputs": [],
   "source": [
    "# Add room class column to main dataset\n",
    "\n",
    "df_fact_bookings['room_class'] = df_fact_bookings['room_category'].map(\n",
    "    get_pair(df_rooms['room_id'], df_rooms['room_class']))"
   ]
  },
  {
   "cell_type": "code",
   "execution_count": null,
   "metadata": {},
   "outputs": [],
   "source": [
    "booking_pcnt_by_room_class = round(df_fact_bookings['room_class'].value_counts(normalize=True) * 100, 2)\n",
    "booking_pcnt_by_room_class"
   ]
  },
  {
   "cell_type": "code",
   "execution_count": null,
   "metadata": {},
   "outputs": [],
   "source": [
    "ADR = round(total_revenue/total_bookings, 2)\n",
    "ADR"
   ]
  },
  {
   "cell_type": "code",
   "execution_count": null,
   "metadata": {},
   "outputs": [],
   "source": [
    "realisation_pcnt = 100 - (cancellation_pcnt + no_show_pcnt)\n",
    "realisation_pcnt"
   ]
  },
  {
   "cell_type": "code",
   "execution_count": null,
   "metadata": {},
   "outputs": [],
   "source": [
    "RevPAR = round(total_revenue/total_capacity, 2)\n",
    "RevPAR"
   ]
  },
  {
   "cell_type": "code",
   "execution_count": null,
   "metadata": {},
   "outputs": [],
   "source": [
    "DBRN = int(total_bookings/num_of_days)\n",
    "DBRN"
   ]
  },
  {
   "cell_type": "code",
   "execution_count": null,
   "metadata": {},
   "outputs": [],
   "source": [
    "DSRN = int(total_capacity/num_of_days)\n",
    "DSRN"
   ]
  },
  {
   "cell_type": "code",
   "execution_count": null,
   "metadata": {},
   "outputs": [],
   "source": [
    "DURN = int(total_checked_out/num_of_days)\n",
    "DURN"
   ]
  },
  {
   "cell_type": "markdown",
   "metadata": {},
   "source": [
    "### Week over Week Analysis"
   ]
  },
  {
   "cell_type": "code",
   "execution_count": null,
   "metadata": {},
   "outputs": [],
   "source": [
    "# Create Dataframe for week over week (WoW) analysis\n",
    "\n",
    "df_week = df_fact_bookings[['booking_date', 'revenue_realized', 'booking_status']].set_index('booking_date')\n",
    "df_week['week_no'] = df_week.index.isocalendar().week\n",
    "# df_week \n",
    "df_week = df_week.pivot_table(values=['revenue_realized', 'booking_status'], index='week_no', \n",
    "                              aggfunc={'revenue_realized':'sum', 'booking_status':'count'}).reset_index()\n",
    "df_week = df_week.rename({'booking_status': 'booking_per_week'}, axis='columns')\n",
    "df_week"
   ]
  },
  {
   "cell_type": "code",
   "execution_count": null,
   "metadata": {},
   "outputs": [],
   "source": [
    "# Create additional columns for WoW analysis\n",
    "\n",
    "df_week['ADR'] = round(df_week['revenue_realized'] / total_bookings * 100, 2)\n",
    "df_week['RevPAR'] = round(df_week['revenue_realized'] / total_capacity * 100, 2)\n",
    "df_week['weekly_booking %'] = round(df_week['booking_per_week'] / total_capacity * 100, 2)\n",
    "df_week"
   ]
  },
  {
   "cell_type": "code",
   "execution_count": null,
   "metadata": {},
   "outputs": [],
   "source": [
    "# Create columns for previous week values to get % change\n",
    "\n",
    "df_week['prev_week_occupancy %'] = df_week['weekly_booking %'].shift(1)\n",
    "df_week['prev_week_revenue'] = df_week['revenue_realized'].shift(1)\n",
    "df_week['prev_week_ADR'] = df_week['ADR'].shift(1)\n",
    "df_week['prev_week_RevPAR'] = df_week['RevPAR'].shift(1)\n",
    "df_week"
   ]
  },
  {
   "cell_type": "code",
   "execution_count": null,
   "metadata": {},
   "outputs": [],
   "source": [
    "# Create WoW % change for each metric and fill na values with 0\n",
    "\n",
    "df_week['Occupancy WoW % Change'] = round((df_week['weekly_booking %'] - df_week['prev_week_occupancy %'])\n",
    "                                           / df_week['prev_week_occupancy %'] * 100, 2)\n",
    "df_week['Revenue WoW % Change'] = round((df_week['revenue_realized'] - df_week['prev_week_revenue'])\n",
    "                                           / df_week['prev_week_revenue'] * 100, 2)\n",
    "df_week['ADR WoW % Change'] = round((df_week['ADR'] - df_week['prev_week_ADR'])\n",
    "                                           / df_week['prev_week_ADR'] * 100, 2)\n",
    "df_week['RevPAR WoW % Change'] = round((df_week['RevPAR'] - df_week['prev_week_RevPAR'])\n",
    "                                           / df_week['prev_week_RevPAR'] * 100, 2)\n",
    "\n",
    "df_week = df_week.fillna(value=0)\n",
    "df_week"
   ]
  },
  {
   "cell_type": "markdown",
   "metadata": {},
   "source": [
    "### More Metrics"
   ]
  },
  {
   "cell_type": "code",
   "execution_count": null,
   "metadata": {},
   "outputs": [],
   "source": [
    "# Create new dataset from main dataset\n",
    " \n",
    "df_new = df_fact_bookings\n",
    "df_new.head()"
   ]
  },
  {
   "cell_type": "code",
   "execution_count": null,
   "metadata": {},
   "outputs": [],
   "source": [
    "# Add month column to get metrics by month\n",
    "# Revenue per month\n",
    "\n",
    "df_new['booking_month'] = df_new['booking_date'].dt.month_name()\n",
    "revenue_per_month = df_new.groupby('booking_month')[['revenue_realized']].sum().reset_index()\n",
    "revenue_per_month"
   ]
  },
  {
   "cell_type": "code",
   "execution_count": null,
   "metadata": {},
   "outputs": [],
   "source": [
    "# Add new columns such as city, month, daytype, hotel_name, hotel_category to get more metrics\n",
    "# We'll do this using the get_pair() function we created earlier\n",
    "\n",
    "df_new['city'] = df_new['property_id'].map(get_pair(df_hotel['property_id'],df_hotel['city'] ))\n",
    "df_new['hotel_name'] = df_new['property_id'].map(get_pair(df_hotel['property_id'], df_hotel['property_name']))\n",
    "df_new['hotel_category'] = df_new['property_id'].map(get_pair(df_hotel['property_id'], df_hotel['category']))\n",
    "\n",
    "df_new.head()"
   ]
  },
  {
   "cell_type": "code",
   "execution_count": null,
   "metadata": {},
   "outputs": [],
   "source": [
    "# Add weekday and day type column using booking date\n",
    "\n",
    "df_new['day_of_week'] = df_new['booking_date'].dt.weekday\n",
    "df_new['weekday'] = df_new['booking_date'].dt.day_name()\n",
    "df_new['day_type'] = ['weekend' if day >= 5 else 'weekday'for day in df_new['day_of_week']]\n",
    "\n",
    "# Drop day_of_week column\n",
    "df_new = df_new.drop('day_of_week', axis=1)\n",
    "\n",
    "df_new.head()"
   ]
  },
  {
   "cell_type": "code",
   "execution_count": null,
   "metadata": {},
   "outputs": [],
   "source": [
    "hotel_by_city = df_new.groupby(['city'])[['revenue_realized']].sum().reset_index()\n",
    "hotel_by_city"
   ]
  },
  {
   "cell_type": "code",
   "execution_count": null,
   "metadata": {},
   "outputs": [],
   "source": [
    "hotel = df_new.groupby(['city', 'hotel_name'])[['revenue_realized']].sum().reset_index()\n",
    "hotel"
   ]
  },
  {
   "cell_type": "code",
   "execution_count": null,
   "metadata": {},
   "outputs": [],
   "source": [
    "# Visualize revenue generated per city\n",
    "sns.set_theme(font_scale=0.9)\n",
    "plt.figure(figsize=(10,6))\n",
    "sns.barplot(data=hotel_by_city, x='city',y='revenue_realized', width=0.6, color='dodgerblue')\n",
    "plt.title('Revenue in $ Generated by Hotels per City')\n",
    "plt.xlabel('City')\n",
    "plt.ylabel('Revenue in Millions ($)')\n",
    "plt.show()"
   ]
  },
  {
   "cell_type": "code",
   "execution_count": null,
   "metadata": {},
   "outputs": [],
   "source": [
    "# Visualize revenue generated by hotel per city\n",
    "\n",
    "plt.figure(figsize=(10,6))\n",
    "sns.barplot(data=hotel, x='city',y='revenue_realized', hue='hotel_name', width=0.8)\n",
    "plt.title('Revenue in $ Generated by Hotels per City')\n",
    "plt.xlabel('City')\n",
    "plt.ylabel('Revenue in Millions ($)')\n",
    "plt.show()"
   ]
  },
  {
   "cell_type": "code",
   "execution_count": null,
   "metadata": {},
   "outputs": [],
   "source": [
    "# Visualize average rating per hotel\n",
    "\n",
    "hotel_rating = df_new.groupby(['hotel_name'])[['ratings_given']].mean().reset_index()\n",
    "hotel_rating['ratings_given'] = round(hotel_rating['ratings_given'], 2)\n",
    "sns.barplot(data=hotel_rating, y='hotel_name', x='ratings_given', width=0.6, color='dodgerblue', orient='h')\n",
    "plt.title('Average Rating per Hotel')\n",
    "plt.xlabel('Rating')\n",
    "plt.ylabel('Hotel')\n",
    "plt.show()"
   ]
  },
  {
   "cell_type": "code",
   "execution_count": null,
   "metadata": {},
   "outputs": [],
   "source": [
    "hotel_category = df_new.groupby(['hotel_category'])[['revenue_realized']].sum().reset_index()\n",
    "sns.barplot(data=hotel_category, x='hotel_category', y='revenue_realized', width=0.6, color='dodgerblue')\n",
    "plt.title('Revenue Generated per Hotel Category')\n",
    "plt.xlabel('Hotel Category')\n",
    "plt.ylabel('Revenue in Billions ($)')\n",
    "plt.show()\n"
   ]
  },
  {
   "cell_type": "code",
   "execution_count": null,
   "metadata": {},
   "outputs": [],
   "source": [
    "# Booking % per Hotel\n",
    "\n",
    "hotel_bookings = df_new.groupby('hotel_name')[['booking_id']].count().reset_index()\n",
    "hotel_bookings['booking %'] = round((hotel_bookings['booking_id'] / hotel_bookings['booking_id'].sum()) * 100, 2)\n",
    "sns.barplot(data=hotel_bookings, y='hotel_name', x='booking %', width=0.6, color='dodgerblue', orient='h')\n",
    "plt.title('Booking % per Hotel')\n",
    "plt.xlabel('Booking %')\n",
    "plt.ylabel('Hotel')\n",
    "plt.show()"
   ]
  },
  {
   "cell_type": "code",
   "execution_count": null,
   "metadata": {},
   "outputs": [],
   "source": [
    "# Cancellation Rate per Hotel\n",
    "\n",
    "hotel_cancelled_bookings = df_new.query(\"booking_status == 'Cancelled'\")\n",
    "hotel_cancelled_bookings = hotel_cancelled_bookings.groupby('hotel_name')[['booking_id']].count().reset_index()\n",
    "hotel_cancelled_bookings['Cancellation %'] = round((hotel_cancelled_bookings['booking_id'] / \n",
    "                                                    hotel_cancelled_bookings['booking_id'].sum()) * 100, 2)\n",
    "sns.barplot(data=hotel_cancelled_bookings, y='hotel_name', x='Cancellation %', \n",
    "            width=0.6, color='dodgerblue', orient='h')\n",
    "plt.title('Booking % per Hotel')\n",
    "plt.xlabel('Booking %')\n",
    "plt.ylabel('Hotel')\n",
    "plt.show()"
   ]
  },
  {
   "cell_type": "markdown",
   "metadata": {},
   "source": [
    "### Week Metrics"
   ]
  },
  {
   "cell_type": "code",
   "execution_count": null,
   "metadata": {},
   "outputs": [],
   "source": [
    "# Add a new column which will have the week no of the booking dates\n",
    "\n",
    "df_new['week_no'] = df_new['booking_date'].dt.isocalendar().week\n",
    "df_new.head()"
   ]
  },
  {
   "cell_type": "code",
   "execution_count": null,
   "metadata": {},
   "outputs": [],
   "source": [
    "# Group by the check in date and get the average rating of each date\n",
    "\n",
    "ratings_df = df_new.groupby(['check_in_date'])[['ratings_given']].mean().reset_index()\n",
    "ratings_df.head()"
   ]
  },
  {
   "cell_type": "code",
   "execution_count": null,
   "metadata": {},
   "outputs": [],
   "source": [
    "# Create a new dataset grouping the check in date and getting the successful bookings and capacity\n",
    "\n",
    "df_occupancy = df_fab.groupby('check_in_date')[['successful_bookings', 'capacity']].sum().reset_index()\n",
    "df_occupancy = ratings_df.merge(df_occupancy, how='inner', on='check_in_date')\n",
    "df_occupancy['week_no'] = df_occupancy['check_in_date'].dt.isocalendar().week\n",
    "df_occupancy['week_no'] = [int(num) for num in df_occupancy['week_no']]\n",
    "df_occupancy['Occupancy %'] = round((df_occupancy['successful_bookings'] / df_occupancy['capacity']) * 100, 2)\n",
    "df_occupancy = df_occupancy.rename({'ratings_given':'avg_ratings'}, axis='columns')\n",
    "df_occupancy['avg_ratings'] = round(df_occupancy['avg_ratings'], 2)\n",
    "df_occupancy.head()"
   ]
  },
  {
   "cell_type": "code",
   "execution_count": null,
   "metadata": {},
   "outputs": [],
   "source": [
    "ratings_and_occupancy = df_occupancy.groupby('week_no')[['Occupancy %', 'avg_ratings']].mean().reset_index()\n",
    "ratings_and_occupancy['Occupancy %'] = round(ratings_and_occupancy['Occupancy %'], 2)\n",
    "ratings_and_occupancy['avg_ratings'] = round(ratings_and_occupancy['avg_ratings'], 2)\n",
    "ratings_and_occupancy\n"
   ]
  },
  {
   "cell_type": "code",
   "execution_count": null,
   "metadata": {},
   "outputs": [],
   "source": [
    "# Create combo chart to show Trend of Occupancy and Average rating per week\n",
    "\n",
    "fig, ax1 = plt.subplots(figsize = (8,4))\n",
    "\n",
    "\n",
    "ax1 = sns.lineplot(data=ratings_and_occupancy, x='week_no', y='Occupancy %', color='dodgerblue')\n",
    "ax1.set_ylabel('Occupancy %')\n",
    "ax1.grid(False)\n",
    "ax1.set_ylim(45,85)\n",
    "ax1.set_xlabel('Week')\n",
    "ax1.legend(['Occupancy %'], loc='upper left')\n",
    "\n",
    "ax2 = ax1.twinx()\n",
    "\n",
    "ax2 = sns.lineplot(data=ratings_and_occupancy, x='week_no', y='avg_ratings', color='orange')\n",
    "ax2.grid(False)\n",
    "ax2.set_ylim(4.38, 4.45)\n",
    "ax2.set_ylabel('Average Rating')\n",
    "ax2.legend(['Average Rating'], loc='upper right')\n",
    "\n",
    "plt.title('Trend per Week')\n",
    "plt.xticks(ratings_and_occupancy['week_no'])\n",
    "fig.tight_layout()\n",
    "plt.show()"
   ]
  },
  {
   "cell_type": "code",
   "execution_count": null,
   "metadata": {},
   "outputs": [],
   "source": [
    "bookings_per_week = df_new.groupby(['week_no'])[['booking_id']].count().reset_index()\n",
    "sns.barplot(data=bookings_per_week, x='week_no', y='booking_id', color='dodgerblue')\n",
    "plt.show()"
   ]
  },
  {
   "cell_type": "code",
   "execution_count": null,
   "metadata": {},
   "outputs": [],
   "source": [
    "bookings_per_week = df_new.groupby(['week_no', 'room_class'])[['booking_id']].count().reset_index()\n",
    "plt.figure(figsize=(12,6))\n",
    "sns.barplot(data=bookings_per_week, x='week_no', hue='room_class', y='booking_id', width=0.8)\n",
    "plt.show()"
   ]
  },
  {
   "cell_type": "code",
   "execution_count": null,
   "metadata": {},
   "outputs": [],
   "source": [
    "months = ['April', 'May', 'June', 'July']\n",
    "\n",
    "bookings_per_month = df_new.groupby(['booking_month', 'hotel_name'])[['booking_id']].count().reset_index()\n",
    "bookings_per_month['booking_month'] = pd.Categorical(bookings_per_month['booking_month'], categories=months)\n",
    "bookings_per_month = bookings_per_month.sort_values('booking_month').reset_index(drop=True)\n",
    "plt.figure(figsize=(12,6))\n",
    "sns.barplot(data=bookings_per_month, x='booking_month', hue='hotel_name', y='booking_id', width=0.8)\n",
    "plt.show()"
   ]
  },
  {
   "cell_type": "code",
   "execution_count": null,
   "metadata": {},
   "outputs": [],
   "source": [
    "df_city = df_new.pivot_table(values=['revenue_realized', 'booking_id', 'ratings_given'], index=['property_id', 'city', 'booking_month', 'hotel_name'], \n",
    "aggfunc={'revenue_realized':'sum', 'booking_id':'count', 'ratings_given':'mean'},\n",
    "sort=False)\n",
    "df_city['ratings_given'] = round(df_city['ratings_given'], 2)\n",
    "df_city = df_city.rename({'revenue_realized':'revenue', 'booking_id':'bookings', 'ratings_given':'avg_rating'}, axis=1)\n",
    "df_city.sort_values(by='revenue', ascending=False).reset_index().head(10)"
   ]
  }
 ],
 "metadata": {
  "kernelspec": {
   "display_name": "projectsenv",
   "language": "python",
   "name": "python3"
  },
  "language_info": {
   "codemirror_mode": {
    "name": "ipython",
    "version": 3
   },
   "file_extension": ".py",
   "mimetype": "text/x-python",
   "name": "python",
   "nbconvert_exporter": "python",
   "pygments_lexer": "ipython3",
   "version": "3.11.7"
  }
 },
 "nbformat": 4,
 "nbformat_minor": 2
}
